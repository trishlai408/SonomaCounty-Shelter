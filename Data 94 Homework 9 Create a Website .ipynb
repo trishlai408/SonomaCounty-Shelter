{
 "cells": [
  {
   "cell_type": "markdown",
   "metadata": {},
   "source": [
    "# Animal Shelter Intakes and Outcomes \n",
    "#### By: Trish Lai"
   ]
  },
  {
   "cell_type": "code",
   "execution_count": 1,
   "metadata": {},
   "outputs": [
    {
     "data": {
      "text/html": [
       "<table border=\"1\" class=\"dataframe\">\n",
       "    <thead>\n",
       "        <tr>\n",
       "            <th>Name</th> <th>Type</th> <th>Breed</th> <th>Color</th> <th>Sex</th> <th>Size</th> <th>Date Of Birth</th> <th>Impound Number</th> <th>Kennel Number</th> <th>Animal ID</th> <th>Intake Date</th> <th>Outcome Date</th> <th>Days in Shelter</th> <th>Intake Type</th> <th>Intake Subtype</th> <th>Outcome Type</th> <th>Outcome Subtype</th> <th>Intake Condition</th> <th>Outcome Condition</th> <th>Intake Jurisdiction</th> <th>Outcome Jurisdiction</th> <th>Outcome Zip Code</th> <th>Location</th> <th>Count</th>\n",
       "        </tr>\n",
       "    </thead>\n",
       "    <tbody>\n",
       "        <tr>\n",
       "            <td>FIFI   </td> <td>CAT </td> <td>SIAMESE          </td> <td>SEAL PT     </td> <td>Spayed  </td> <td>KITTN</td> <td>10/27/2020   </td> <td>K21-037796    </td> <td>CA03         </td> <td>A402286  </td> <td>01/30/2021 </td> <td>02/05/2021  </td> <td>6              </td> <td>OWNER SURRENDER</td> <td>OVER THE COUNTER</td> <td>ADOPTION       </td> <td>SCAS WEB               </td> <td>UNKNOWN         </td> <td>PENDING             </td> <td>SANTA ROSA         </td> <td>SANTA ROSA          </td> <td>95407           </td> <td>95407(38.403734, -122.736775)</td> <td>1    </td>\n",
       "        </tr>\n",
       "        <tr>\n",
       "            <td>*MERLIN</td> <td>CAT </td> <td>DOMESTIC SH      </td> <td>BRN TABBY   </td> <td>Neutered</td> <td>SMALL</td> <td>01/16/2018   </td> <td>K21-037709    </td> <td>CS05         </td> <td>A402139  </td> <td>01/16/2021 </td> <td>02/05/2021  </td> <td>20             </td> <td>STRAY          </td> <td>PHONE           </td> <td>ADOPTION       </td> <td>SCAS WEB               </td> <td>UNKNOWN         </td> <td>PENDING             </td> <td>SANTA ROSA         </td> <td>COUNTY              </td> <td>94952           </td> <td>94952(38.236012, -122.730241)</td> <td>1    </td>\n",
       "        </tr>\n",
       "        <tr>\n",
       "            <td>*ANDY  </td> <td>CAT </td> <td>DOMESTIC SH      </td> <td>BLACK       </td> <td>Neutered</td> <td>KITTN</td> <td>09/06/2020   </td> <td>K20-037580    </td> <td>WESTFARM     </td> <td>A401875  </td> <td>12/26/2020 </td> <td>01/13/2021  </td> <td>18             </td> <td>STRAY          </td> <td>PHONE           </td> <td>ADOPTION       </td> <td>WESTFARM               </td> <td>HEALTHY         </td> <td>HEALTHY             </td> <td>SANTA ROSA         </td> <td>COUNTY              </td> <td>95436           </td> <td>95436(38.491884, -122.90672) </td> <td>1    </td>\n",
       "        </tr>\n",
       "        <tr>\n",
       "            <td>*ANNE  </td> <td>CAT </td> <td>DOMESTIC SH      </td> <td>BLACK/WHITE </td> <td>Spayed  </td> <td>KITTN</td> <td>09/06/2020   </td> <td>K20-037581    </td> <td>WESTFARM     </td> <td>A401876  </td> <td>12/26/2020 </td> <td>01/13/2021  </td> <td>18             </td> <td>STRAY          </td> <td>PHONE           </td> <td>ADOPTION       </td> <td>WESTFARM               </td> <td>HEALTHY         </td> <td>HEALTHY             </td> <td>SANTA ROSA         </td> <td>SANTA ROSA          </td> <td>95409           </td> <td>95409(38.458965, -122.630156)</td> <td>1    </td>\n",
       "        </tr>\n",
       "        <tr>\n",
       "            <td>RICKY  </td> <td>DOG </td> <td>LABRADOR RETR/MIX</td> <td>BLUE/WHITE  </td> <td>Neutered</td> <td>MED  </td> <td>01/04/2020   </td> <td>K21-037835    </td> <td>DS72         </td> <td>A402348  </td> <td>02/04/2021 </td> <td>02/05/2021  </td> <td>1              </td> <td>CONFISCATE     </td> <td>FLD_ARREST      </td> <td>RETURN TO OWNER</td> <td>OVER THE COUNTER_ARREST</td> <td>UNKNOWN         </td> <td>PENDING             </td> <td>SANTA ROSA         </td> <td>SANTA ROSA          </td> <td>95403           </td> <td>95403(38.486997, -122.749134)</td> <td>1    </td>\n",
       "        </tr>\n",
       "        <tr>\n",
       "            <td>CALISTA</td> <td>DOG </td> <td>LABRADOR RETR    </td> <td>YELLOW      </td> <td>Female  </td> <td>MED  </td> <td>04/14/2020   </td> <td>K21-037645    </td> <td>TRUCK        </td> <td>A402212  </td> <td>01/07/2021 </td> <td>01/07/2021  </td> <td>0              </td> <td>STRAY          </td> <td>FIELD           </td> <td>RETURN TO OWNER</td> <td>FLD_MCHIP              </td> <td>UNKNOWN         </td> <td>HEALTHY             </td> <td>SANTA ROSA         </td> <td>COUNTY              </td> <td>95403           </td> <td>95403(38.486997, -122.749134)</td> <td>1    </td>\n",
       "        </tr>\n",
       "        <tr>\n",
       "            <td>COCO   </td> <td>DOG </td> <td>GERM SHEPHERD/MIX</td> <td>WHITE       </td> <td>Spayed  </td> <td>LARGE</td> <td>nan          </td> <td>K21-037836    </td> <td>TRUCK        </td> <td>A402350  </td> <td>02/05/2021 </td> <td>02/05/2021  </td> <td>0              </td> <td>STRAY          </td> <td>FIELD           </td> <td>RETURN TO OWNER</td> <td>FLD_MCHIP              </td> <td>UNKNOWN         </td> <td>HEALTHY             </td> <td>SANTA ROSA         </td> <td>SANTA ROSA          </td> <td>95407           </td> <td>95407(38.403734, -122.736775)</td> <td>1    </td>\n",
       "        </tr>\n",
       "        <tr>\n",
       "            <td>PENNEY </td> <td>CAT </td> <td>DOMESTIC LH      </td> <td>ORANGE/WHITE</td> <td>Spayed  </td> <td>SMALL</td> <td>11/01/2005   </td> <td>K21-037832    </td> <td>CI01         </td> <td>A402345  </td> <td>02/04/2021 </td> <td>02/05/2021  </td> <td>1              </td> <td>STRAY          </td> <td>OVER THE COUNTER</td> <td>RETURN TO OWNER</td> <td>OVER THE COUNTER_WEB   </td> <td>UNKNOWN         </td> <td>PENDING             </td> <td>SANTA ROSA         </td> <td>SANTA ROSA          </td> <td>95401           </td> <td>95401(38.446019, -122.766748)</td> <td>1    </td>\n",
       "        </tr>\n",
       "        <tr>\n",
       "            <td>*KELSEY</td> <td>CAT </td> <td>DOMESTIC SH      </td> <td>BLACK/WHITE </td> <td>Spayed  </td> <td>SMALL</td> <td>11/17/2018   </td> <td>K20-037367    </td> <td>CA02         </td> <td>A401442  </td> <td>11/17/2020 </td> <td>02/06/2021  </td> <td>81             </td> <td>STRAY          </td> <td>PHONE           </td> <td>TRANSFER       </td> <td>FORGOTTEN              </td> <td>HEALTHY         </td> <td>HEALTHY             </td> <td>SANTA ROSA         </td> <td>SANTA ROSA          </td> <td>95403           </td> <td>95403(38.486997, -122.749134)</td> <td>1    </td>\n",
       "        </tr>\n",
       "        <tr>\n",
       "            <td>nan    </td> <td>CAT </td> <td>DOMESTIC MH      </td> <td>BRN TABBY   </td> <td>Neutered</td> <td>SMALL</td> <td>02/02/2019   </td> <td>K21-037812    </td> <td>CS06         </td> <td>A402318  </td> <td>02/02/2021 </td> <td>02/06/2021  </td> <td>4              </td> <td>STRAY          </td> <td>OVER THE COUNTER</td> <td>RETURN TO OWNER</td> <td>OVER THE COUNTER_PRVS  </td> <td>HEALTHY         </td> <td>TREATABLE/MANAGEABLE</td> <td>COUNTY             </td> <td>COUNTY              </td> <td>95407           </td> <td>95407(38.403734, -122.736775)</td> <td>1    </td>\n",
       "        </tr>\n",
       "    </tbody>\n",
       "</table>\n",
       "<p>... (20903 rows omitted)</p>"
      ],
      "text/plain": [
       "Name    | Type | Breed             | Color        | Sex      | Size  | Date Of Birth | Impound Number | Kennel Number | Animal ID | Intake Date | Outcome Date | Days in Shelter | Intake Type     | Intake Subtype   | Outcome Type    | Outcome Subtype         | Intake Condition | Outcome Condition    | Intake Jurisdiction | Outcome Jurisdiction | Outcome Zip Code | Location                      | Count\n",
       "FIFI    | CAT  | SIAMESE           | SEAL PT      | Spayed   | KITTN | 10/27/2020    | K21-037796     | CA03          | A402286   | 01/30/2021  | 02/05/2021   | 6               | OWNER SURRENDER | OVER THE COUNTER | ADOPTION        | SCAS WEB                | UNKNOWN          | PENDING              | SANTA ROSA          | SANTA ROSA           | 95407            | 95407(38.403734, -122.736775) | 1\n",
       "*MERLIN | CAT  | DOMESTIC SH       | BRN TABBY    | Neutered | SMALL | 01/16/2018    | K21-037709     | CS05          | A402139   | 01/16/2021  | 02/05/2021   | 20              | STRAY           | PHONE            | ADOPTION        | SCAS WEB                | UNKNOWN          | PENDING              | SANTA ROSA          | COUNTY               | 94952            | 94952(38.236012, -122.730241) | 1\n",
       "*ANDY   | CAT  | DOMESTIC SH       | BLACK        | Neutered | KITTN | 09/06/2020    | K20-037580     | WESTFARM      | A401875   | 12/26/2020  | 01/13/2021   | 18              | STRAY           | PHONE            | ADOPTION        | WESTFARM                | HEALTHY          | HEALTHY              | SANTA ROSA          | COUNTY               | 95436            | 95436(38.491884, -122.90672)  | 1\n",
       "*ANNE   | CAT  | DOMESTIC SH       | BLACK/WHITE  | Spayed   | KITTN | 09/06/2020    | K20-037581     | WESTFARM      | A401876   | 12/26/2020  | 01/13/2021   | 18              | STRAY           | PHONE            | ADOPTION        | WESTFARM                | HEALTHY          | HEALTHY              | SANTA ROSA          | SANTA ROSA           | 95409            | 95409(38.458965, -122.630156) | 1\n",
       "RICKY   | DOG  | LABRADOR RETR/MIX | BLUE/WHITE   | Neutered | MED   | 01/04/2020    | K21-037835     | DS72          | A402348   | 02/04/2021  | 02/05/2021   | 1               | CONFISCATE      | FLD_ARREST       | RETURN TO OWNER | OVER THE COUNTER_ARREST | UNKNOWN          | PENDING              | SANTA ROSA          | SANTA ROSA           | 95403            | 95403(38.486997, -122.749134) | 1\n",
       "CALISTA | DOG  | LABRADOR RETR     | YELLOW       | Female   | MED   | 04/14/2020    | K21-037645     | TRUCK         | A402212   | 01/07/2021  | 01/07/2021   | 0               | STRAY           | FIELD            | RETURN TO OWNER | FLD_MCHIP               | UNKNOWN          | HEALTHY              | SANTA ROSA          | COUNTY               | 95403            | 95403(38.486997, -122.749134) | 1\n",
       "COCO    | DOG  | GERM SHEPHERD/MIX | WHITE        | Spayed   | LARGE | nan           | K21-037836     | TRUCK         | A402350   | 02/05/2021  | 02/05/2021   | 0               | STRAY           | FIELD            | RETURN TO OWNER | FLD_MCHIP               | UNKNOWN          | HEALTHY              | SANTA ROSA          | SANTA ROSA           | 95407            | 95407(38.403734, -122.736775) | 1\n",
       "PENNEY  | CAT  | DOMESTIC LH       | ORANGE/WHITE | Spayed   | SMALL | 11/01/2005    | K21-037832     | CI01          | A402345   | 02/04/2021  | 02/05/2021   | 1               | STRAY           | OVER THE COUNTER | RETURN TO OWNER | OVER THE COUNTER_WEB    | UNKNOWN          | PENDING              | SANTA ROSA          | SANTA ROSA           | 95401            | 95401(38.446019, -122.766748) | 1\n",
       "*KELSEY | CAT  | DOMESTIC SH       | BLACK/WHITE  | Spayed   | SMALL | 11/17/2018    | K20-037367     | CA02          | A401442   | 11/17/2020  | 02/06/2021   | 81              | STRAY           | PHONE            | TRANSFER        | FORGOTTEN               | HEALTHY          | HEALTHY              | SANTA ROSA          | SANTA ROSA           | 95403            | 95403(38.486997, -122.749134) | 1\n",
       "nan     | CAT  | DOMESTIC MH       | BRN TABBY    | Neutered | SMALL | 02/02/2019    | K21-037812     | CS06          | A402318   | 02/02/2021  | 02/06/2021   | 4               | STRAY           | OVER THE COUNTER | RETURN TO OWNER | OVER THE COUNTER_PRVS   | HEALTHY          | TREATABLE/MANAGEABLE | COUNTY              | COUNTY               | 95407            | 95407(38.403734, -122.736775) | 1\n",
       "... (20903 rows omitted)"
      ]
     },
     "execution_count": 1,
     "metadata": {},
     "output_type": "execute_result"
    }
   ],
   "source": [
    "from datascience import * \n",
    "import numpy as np \n",
    "Table.interactive_plots()\n",
    "Table.read_table('data/Animal_Shelter_Intake_and_Outcome.csv')"
   ]
  },
  {
   "cell_type": "code",
   "execution_count": 2,
   "metadata": {},
   "outputs": [],
   "source": [
    "animal_shelter = Table.read_table('data/Animal_Shelter_Intake_and_Outcome.csv')"
   ]
  },
  {
   "cell_type": "code",
   "execution_count": 3,
   "metadata": {},
   "outputs": [
    {
     "data": {
      "text/html": [
       "<table border=\"1\" class=\"dataframe\">\n",
       "    <thead>\n",
       "        <tr>\n",
       "            <th>Type</th> <th>Breed</th> <th>Outcome Type</th>\n",
       "        </tr>\n",
       "    </thead>\n",
       "    <tbody>\n",
       "        <tr>\n",
       "            <td>CAT </td> <td>SIAMESE          </td> <td>ADOPTION       </td>\n",
       "        </tr>\n",
       "        <tr>\n",
       "            <td>CAT </td> <td>DOMESTIC SH      </td> <td>ADOPTION       </td>\n",
       "        </tr>\n",
       "        <tr>\n",
       "            <td>CAT </td> <td>DOMESTIC SH      </td> <td>ADOPTION       </td>\n",
       "        </tr>\n",
       "        <tr>\n",
       "            <td>CAT </td> <td>DOMESTIC SH      </td> <td>ADOPTION       </td>\n",
       "        </tr>\n",
       "        <tr>\n",
       "            <td>DOG </td> <td>LABRADOR RETR/MIX</td> <td>RETURN TO OWNER</td>\n",
       "        </tr>\n",
       "        <tr>\n",
       "            <td>DOG </td> <td>LABRADOR RETR    </td> <td>RETURN TO OWNER</td>\n",
       "        </tr>\n",
       "        <tr>\n",
       "            <td>DOG </td> <td>GERM SHEPHERD/MIX</td> <td>RETURN TO OWNER</td>\n",
       "        </tr>\n",
       "        <tr>\n",
       "            <td>CAT </td> <td>DOMESTIC LH      </td> <td>RETURN TO OWNER</td>\n",
       "        </tr>\n",
       "        <tr>\n",
       "            <td>CAT </td> <td>DOMESTIC SH      </td> <td>TRANSFER       </td>\n",
       "        </tr>\n",
       "        <tr>\n",
       "            <td>CAT </td> <td>DOMESTIC MH      </td> <td>RETURN TO OWNER</td>\n",
       "        </tr>\n",
       "    </tbody>\n",
       "</table>\n",
       "<p>... (20903 rows omitted)</p>"
      ],
      "text/plain": [
       "Type | Breed             | Outcome Type\n",
       "CAT  | SIAMESE           | ADOPTION\n",
       "CAT  | DOMESTIC SH       | ADOPTION\n",
       "CAT  | DOMESTIC SH       | ADOPTION\n",
       "CAT  | DOMESTIC SH       | ADOPTION\n",
       "DOG  | LABRADOR RETR/MIX | RETURN TO OWNER\n",
       "DOG  | LABRADOR RETR     | RETURN TO OWNER\n",
       "DOG  | GERM SHEPHERD/MIX | RETURN TO OWNER\n",
       "CAT  | DOMESTIC LH       | RETURN TO OWNER\n",
       "CAT  | DOMESTIC SH       | TRANSFER\n",
       "CAT  | DOMESTIC MH       | RETURN TO OWNER\n",
       "... (20903 rows omitted)"
      ]
     },
     "execution_count": 3,
     "metadata": {},
     "output_type": "execute_result"
    }
   ],
   "source": [
    "animal_shelter_outcome = animal_shelter.select('Type', 'Breed', 'Outcome Type')\n",
    "animal_shelter_outcome"
   ]
  },
  {
   "cell_type": "code",
   "execution_count": 4,
   "metadata": {},
   "outputs": [
    {
     "name": "stderr",
     "output_type": "stream",
     "text": [
      "/opt/conda/lib/python3.8/site-packages/datascience/tables.py:920: VisibleDeprecationWarning: Creating an ndarray from ragged nested sequences (which is a list-or-tuple of lists-or-tuples-or ndarrays with different lengths or shapes) is deprecated. If you meant to do this, you must specify 'dtype=object' when creating the ndarray\n",
      "  values = np.array(tuple(values))\n"
     ]
    },
    {
     "data": {
      "text/html": [
       "<table border=\"1\" class=\"dataframe\">\n",
       "    <thead>\n",
       "        <tr>\n",
       "            <th>Breed</th> <th>ADOPTION</th> <th>EUTHANIZE</th>\n",
       "        </tr>\n",
       "    </thead>\n",
       "    <tbody>\n",
       "        <tr>\n",
       "            <td>ABYSSINIAN           </td> <td>0       </td> <td>0        </td>\n",
       "        </tr>\n",
       "        <tr>\n",
       "            <td>ABYSSINIAN/MIX       </td> <td>4       </td> <td>0        </td>\n",
       "        </tr>\n",
       "        <tr>\n",
       "            <td>AFFENPINSCHER        </td> <td>1       </td> <td>0        </td>\n",
       "        </tr>\n",
       "        <tr>\n",
       "            <td>AFFENPINSCHER/MIX    </td> <td>0       </td> <td>0        </td>\n",
       "        </tr>\n",
       "        <tr>\n",
       "            <td>AIREDALE TERR        </td> <td>0       </td> <td>0        </td>\n",
       "        </tr>\n",
       "        <tr>\n",
       "            <td>AIREDALE TERR/MIX    </td> <td>0       </td> <td>0        </td>\n",
       "        </tr>\n",
       "        <tr>\n",
       "            <td>AKBASH               </td> <td>1       </td> <td>2        </td>\n",
       "        </tr>\n",
       "        <tr>\n",
       "            <td>AKBASH/GREAT PYRENEES</td> <td>0       </td> <td>0        </td>\n",
       "        </tr>\n",
       "        <tr>\n",
       "            <td>AKBASH/MIX           </td> <td>0       </td> <td>0        </td>\n",
       "        </tr>\n",
       "        <tr>\n",
       "            <td>AKITA                </td> <td>0       </td> <td>2        </td>\n",
       "        </tr>\n",
       "    </tbody>\n",
       "</table>\n",
       "<p>... (947 rows omitted)</p>"
      ],
      "text/plain": [
       "Breed                 | ADOPTION | EUTHANIZE\n",
       "ABYSSINIAN            | 0        | 0\n",
       "ABYSSINIAN/MIX        | 4        | 0\n",
       "AFFENPINSCHER         | 1        | 0\n",
       "AFFENPINSCHER/MIX     | 0        | 0\n",
       "AIREDALE TERR         | 0        | 0\n",
       "AIREDALE TERR/MIX     | 0        | 0\n",
       "AKBASH                | 1        | 2\n",
       "AKBASH/GREAT PYRENEES | 0        | 0\n",
       "AKBASH/MIX            | 0        | 0\n",
       "AKITA                 | 0        | 2\n",
       "... (947 rows omitted)"
      ]
     },
     "execution_count": 4,
     "metadata": {},
     "output_type": "execute_result"
    }
   ],
   "source": [
    "shelter_pivot = animal_shelter_outcome.pivot('Outcome Type','Breed').select('Breed','ADOPTION','EUTHANIZE')\n",
    "shelter_pivot"
   ]
  },
  {
   "cell_type": "code",
   "execution_count": 5,
   "metadata": {},
   "outputs": [
    {
     "ename": "NameError",
     "evalue": "name 'breeds' is not defined",
     "output_type": "error",
     "traceback": [
      "\u001b[0;31m---------------------------------------------------------------------------\u001b[0m",
      "\u001b[0;31mNameError\u001b[0m                                 Traceback (most recent call last)",
      "\u001b[0;32m<ipython-input-5-0ad837c1babd>\u001b[0m in \u001b[0;36m<module>\u001b[0;34m\u001b[0m\n\u001b[1;32m      1\u001b[0m \u001b[0mshelter_pivot\u001b[0m\u001b[0;34m.\u001b[0m\u001b[0mwhere\u001b[0m\u001b[0;34m(\u001b[0m\u001b[0;34m'ADOPTION'\u001b[0m\u001b[0;34m,\u001b[0m \u001b[0mare\u001b[0m\u001b[0;34m.\u001b[0m\u001b[0mabove\u001b[0m\u001b[0;34m(\u001b[0m\u001b[0;36m0\u001b[0m\u001b[0;34m)\u001b[0m\u001b[0;34m)\u001b[0m\u001b[0;34m.\u001b[0m\u001b[0mwhere\u001b[0m\u001b[0;34m(\u001b[0m\u001b[0;34m'EUTHANIZE'\u001b[0m\u001b[0;34m,\u001b[0m\u001b[0mare\u001b[0m\u001b[0;34m.\u001b[0m\u001b[0mabove\u001b[0m\u001b[0;34m(\u001b[0m\u001b[0;36m0\u001b[0m\u001b[0;34m)\u001b[0m\u001b[0;34m)\u001b[0m\u001b[0;34m\u001b[0m\u001b[0;34m\u001b[0m\u001b[0m\n\u001b[1;32m      2\u001b[0m \u001b[0;34m\u001b[0m\u001b[0m\n\u001b[0;32m----> 3\u001b[0;31m \u001b[0mshelter_data\u001b[0m \u001b[0;34m=\u001b[0m \u001b[0mshelter_pivot\u001b[0m\u001b[0;34m.\u001b[0m\u001b[0mwhere\u001b[0m\u001b[0;34m(\u001b[0m\u001b[0;34m'Breed'\u001b[0m\u001b[0;34m,\u001b[0m \u001b[0mare\u001b[0m\u001b[0;34m.\u001b[0m\u001b[0mnot_contained_in\u001b[0m\u001b[0;34m(\u001b[0m\u001b[0mbreeds\u001b[0m\u001b[0;34m)\u001b[0m\u001b[0;34m)\u001b[0m\u001b[0;34m\u001b[0m\u001b[0;34m\u001b[0m\u001b[0m\n\u001b[0m\u001b[1;32m      4\u001b[0m \u001b[0mshelter_data\u001b[0m\u001b[0;34m\u001b[0m\u001b[0;34m\u001b[0m\u001b[0m\n",
      "\u001b[0;31mNameError\u001b[0m: name 'breeds' is not defined"
     ]
    }
   ],
   "source": [
    "shelter_pivot.where('ADOPTION', are.above(0)).where('EUTHANIZE',are.above(0)) \n",
    "\n",
    "shelter_data = shelter_pivot.where('Breed', are.not_contained_in(breeds))\n",
    "shelter_data "
   ]
  },
  {
   "cell_type": "code",
   "execution_count": null,
   "metadata": {},
   "outputs": [],
   "source": [
    "breeds = shelter_pivot.where('ADOPTION', 0).where('EUTHANIZE', 0).column('Breed')\n",
    "breeds"
   ]
  },
  {
   "cell_type": "code",
   "execution_count": null,
   "metadata": {},
   "outputs": [],
   "source": [
    "most_common = shelter_data.where('ADOPTION', are.above(50)).where('EUTHANIZE',are.above(50)) \n",
    "most_common"
   ]
  },
  {
   "cell_type": "code",
   "execution_count": null,
   "metadata": {},
   "outputs": [],
   "source": [
    "visual = most_common.barh('Breed', title = 'Breeds Adopted vs. Euthanized in Sonoma County, CA',\n",
    "                 yaxis_title = 'Animal Breeds', \n",
    "                 plot_bgcolor = 'white', show = False)\n",
    "visual"
   ]
  },
  {
   "cell_type": "markdown",
   "metadata": {},
   "source": [
    "This dataset describes the all of the different animal breeds that Sonoma Counta, CA animal shelter intake and the two most common outcomes: Adoption or Euthanization. It was downloaded from the [Sonoma County Government Data](https://data.sonomacounty.ca.gov/w/924a-vesw/default?cur=fQkaQSuLtEq&from=-eP_StpDzC2) website.\n",
    "\n",
    "As per the visualization, domestic shorthair cats have a high euthanization rate. Additionally, in Sonoma County, pit bulls have the highest rate of euthanization compared to any other dog breed. "
   ]
  },
  {
   "cell_type": "code",
   "execution_count": null,
   "metadata": {},
   "outputs": [],
   "source": [
    "import plotly\n",
    "print(plotly.offline.plot(visual, include_plotlyjs=False, output_type='div'))"
   ]
  }
 ],
 "metadata": {
  "kernelspec": {
   "display_name": "Python 3",
   "language": "python",
   "name": "python3"
  },
  "language_info": {
   "codemirror_mode": {
    "name": "ipython",
    "version": 3
   },
   "file_extension": ".py",
   "mimetype": "text/x-python",
   "name": "python",
   "nbconvert_exporter": "python",
   "pygments_lexer": "ipython3",
   "version": "3.8.8"
  }
 },
 "nbformat": 4,
 "nbformat_minor": 4
}
